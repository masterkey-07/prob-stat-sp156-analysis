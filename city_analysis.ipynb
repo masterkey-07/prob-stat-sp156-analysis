{
 "cells": [
  {
   "cell_type": "code",
   "execution_count": null,
   "metadata": {},
   "outputs": [],
   "source": [
    "import pandas as pd\n",
    "import matplotlib.pyplot as plt\n",
    "import seaborn as sns\n",
    "from helper import *\n",
    "import geopandas as gpd\n",
    "from shapely.geometry import Point\n",
    "import contextily as ctx\n"
   ]
  },
  {
   "cell_type": "code",
   "execution_count": null,
   "metadata": {},
   "outputs": [],
   "source": [
    "rua_e_bairro = pd.read_csv('./data/final/Rua e bairro.csv', sep=';')\n",
    "lixo_e_limpeza = pd.read_csv('./data/final/Lixo e limpeza.csv', sep=';')\n",
    "animais = pd.read_csv('./data/final/Animais.csv', sep=';')"
   ]
  },
  {
   "cell_type": "code",
   "execution_count": null,
   "metadata": {},
   "outputs": [],
   "source": [
    "plot_donut_chart(rua_e_bairro, 'Distribuição dos Assuntos para o Tema: Rua e Bairro')\n",
    "plot_donut_chart(lixo_e_limpeza, 'Distribuição dos Assuntos para o Tema: Lixo e Limpeza')\n",
    "plot_donut_chart(animais, 'Distribuição dos Assuntos para o Tema: Animais')"
   ]
  },
  {
   "cell_type": "code",
   "execution_count": null,
   "metadata": {},
   "outputs": [],
   "source": [
    "# plot_bar_chart_by_year_per_assunto(lixo_e_limpeza, \"Lixo e Limpeza\")\n",
    "\n",
    "# Motivo para o pico de solicitações em 2023 por ponto viciado: https://capital.sp.gov.br/web/lapa/w/noticias/127394\n",
    "\n",
    "# plot_bar_chart_by_year_per_assunto(rua_e_bairro, \"Rua e Bairro\")\n",
    "plot_bar_chart_by_year_per_assunto(animais, \"Rua e Bairro\")\n"
   ]
  },
  {
   "cell_type": "code",
   "execution_count": null,
   "metadata": {},
   "outputs": [],
   "source": [
    "import plotly.express as px\n",
    "\n",
    "filtered = rua_e_bairro.dropna(subset=['latitude', 'longitude'])\n",
    "\n",
    "filtered['mes'] = pd.to_datetime(filtered['data de abertura']).dt.to_period('M')\n",
    "\n",
    "mapa = filtered.groupby(['latitude', 'longitude', 'mes']).size().reset_index(name='intensidade')\n",
    "mapa = mapa.sort_values(by='mes')\n",
    "\n",
    "mapa"
   ]
  },
  {
   "cell_type": "code",
   "execution_count": null,
   "metadata": {},
   "outputs": [],
   "source": [
    "\n",
    "# Criar o mapa de calor\n",
    "\n",
    "fig = px.density_mapbox(mapa, lat='latitude', lon='longitude', z='intensidade', \n",
    "                        animation_frame=mapa['mes'].astype(str),\n",
    "                        height=700,\n",
    "                        width=1000,\n",
    "                        center=dict(lat=0, lon=180), zoom=0,\n",
    "                        mapbox_style=\"stamen-terrain\")\n",
    "\n",
    "\n",
    "# Ajustar o layout do mapa e a barra de cor (colorbar)\n",
    "fig.update_layout(\n",
    "    mapbox_style=\"carto-positron\", \n",
    "    mapbox_zoom=3, \n",
    "    mapbox_center={\"lat\": -23.508145, \"lon\": -46.597952},\n",
    "    coloraxis=dict(cmin=0, cmax=500)  # Definir a escala fixa para a barra de cor\n",
    ")\n",
    "\n",
    "\n",
    "\n",
    "# Mostrar o gráfico\n",
    "fig.show()"
   ]
  },
  {
   "cell_type": "code",
   "execution_count": null,
   "metadata": {},
   "outputs": [],
   "source": [
    "import pandas as pd\n",
    "import matplotlib.pyplot as plt\n",
    "import seaborn as sns\n",
    "\n",
    "def remove_outliers_iqr(df, columns):\n",
    "    \"\"\"\n",
    "    Remove outliers de um DataFrame usando o método do Interquartile Range (IQR).\n",
    "    \n",
    "    Parâmetros:\n",
    "    - df: DataFrame original.\n",
    "    - columns: Lista de colunas onde remover os outliers.\n",
    "    \n",
    "    Retorna:\n",
    "    - DataFrame sem os outliers nas colunas especificadas.\n",
    "    \"\"\"\n",
    "    for column in columns:\n",
    "        Q1 = df[column].quantile(0.25)\n",
    "        Q3 = df[column].quantile(0.75)\n",
    "        IQR = Q3 - Q1\n",
    "        lower_bound = Q1 - 1.5 * IQR\n",
    "        upper_bound = Q3 + 1.5 * IQR\n",
    "        \n",
    "        df = df[(df[column] >= lower_bound) & (df[column] <= upper_bound)]\n",
    "    \n",
    "    return df\n",
    "\n",
    "def plot_assunto_by_lat_lon(df, title):\n",
    "    \"\"\"\n",
    "    Gera um gráfico cartesiano plotando 'assunto' por 'latitude' e 'longitude',\n",
    "    removendo outliers das colunas de latitude e longitude.\n",
    "    \n",
    "    Parâmetros:\n",
    "    - df: DataFrame contendo as colunas 'latitude', 'longitude', e 'assunto'.\n",
    "    - title: Título do gráfico.\n",
    "    \"\"\"\n",
    "    \n",
    "    # Remover outliers\n",
    "    df_filtered = remove_outliers_iqr(df, ['latitude', 'longitude'])\n",
    "\n",
    "    # Filtrando dados para garantir que não existam valores nulos em latitude e longitude\n",
    "    df_filtered = df_filtered.dropna(subset=['latitude', 'longitude'])\n",
    "\n",
    "    # Criando o gráfico cartesiano\n",
    "    plt.figure(figsize=(12, 8))\n",
    "    sns.scatterplot(\n",
    "        data=df_filtered,\n",
    "        x='longitude',\n",
    "        y='latitude',\n",
    "        hue='assunto',\n",
    "        palette='muted',\n",
    "        s=100,  # Tamanho dos pontos\n",
    "        edgecolor='w',\n",
    "        alpha=0.7\n",
    "    )\n",
    "\n",
    "    # Personalizando o gráfico\n",
    "    plt.title(title)\n",
    "    plt.xlabel('Longitude')\n",
    "    plt.ylabel('Latitude')\n",
    "    plt.legend(title='Assunto', bbox_to_anchor=(1.05, 1), loc='upper left')\n",
    "    plt.grid(True)\n",
    "    plt.show()"
   ]
  },
  {
   "cell_type": "code",
   "execution_count": null,
   "metadata": {},
   "outputs": [],
   "source": [
    "plot_assunto_by_lat_lon(lixo_e_limpeza, 'teste')"
   ]
  }
 ],
 "metadata": {
  "kernelspec": {
   "display_name": ".venv",
   "language": "python",
   "name": "python3"
  },
  "language_info": {
   "codemirror_mode": {
    "name": "ipython",
    "version": 3
   },
   "file_extension": ".py",
   "mimetype": "text/x-python",
   "name": "python",
   "nbconvert_exporter": "python",
   "pygments_lexer": "ipython3",
   "version": "3.12.3"
  }
 },
 "nbformat": 4,
 "nbformat_minor": 2
}
