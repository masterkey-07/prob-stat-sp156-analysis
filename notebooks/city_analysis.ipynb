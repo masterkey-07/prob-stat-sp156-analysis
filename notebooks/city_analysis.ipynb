{
 "cells": [
  {
   "cell_type": "code",
   "execution_count": 2,
   "metadata": {},
   "outputs": [],
   "source": [
    "import pandas as pd"
   ]
  },
  {
   "cell_type": "code",
   "execution_count": 13,
   "metadata": {},
   "outputs": [],
   "source": [
    "all_data = pd.read_csv('../data/final/all_data.csv', sep=';', chunksize=5e5)"
   ]
  },
  {
   "cell_type": "code",
   "execution_count": 14,
   "metadata": {},
   "outputs": [
    {
     "name": "stderr",
     "output_type": "stream",
     "text": [
      "/tmp/ipykernel_129081/1753210642.py:3: DtypeWarning: Columns (7) have mixed types. Specify dtype option on import or set low_memory=False.\n",
      "  for chunk in all_data:\n",
      "/tmp/ipykernel_129081/1753210642.py:3: DtypeWarning: Columns (7) have mixed types. Specify dtype option on import or set low_memory=False.\n",
      "  for chunk in all_data:\n",
      "/tmp/ipykernel_129081/1753210642.py:3: DtypeWarning: Columns (7,8) have mixed types. Specify dtype option on import or set low_memory=False.\n",
      "  for chunk in all_data:\n",
      "/tmp/ipykernel_129081/1753210642.py:3: DtypeWarning: Columns (7,8,13) have mixed types. Specify dtype option on import or set low_memory=False.\n",
      "  for chunk in all_data:\n",
      "/tmp/ipykernel_129081/1753210642.py:3: DtypeWarning: Columns (7) have mixed types. Specify dtype option on import or set low_memory=False.\n",
      "  for chunk in all_data:\n",
      "/tmp/ipykernel_129081/1753210642.py:3: DtypeWarning: Columns (7,8) have mixed types. Specify dtype option on import or set low_memory=False.\n",
      "  for chunk in all_data:\n",
      "/tmp/ipykernel_129081/1753210642.py:3: DtypeWarning: Columns (7) have mixed types. Specify dtype option on import or set low_memory=False.\n",
      "  for chunk in all_data:\n",
      "/tmp/ipykernel_129081/1753210642.py:3: DtypeWarning: Columns (7,8) have mixed types. Specify dtype option on import or set low_memory=False.\n",
      "  for chunk in all_data:\n",
      "/tmp/ipykernel_129081/1753210642.py:3: DtypeWarning: Columns (7,8,13) have mixed types. Specify dtype option on import or set low_memory=False.\n",
      "  for chunk in all_data:\n",
      "/tmp/ipykernel_129081/1753210642.py:3: DtypeWarning: Columns (0,1,2,3,4,5,7,8,10) have mixed types. Specify dtype option on import or set low_memory=False.\n",
      "  for chunk in all_data:\n",
      "/tmp/ipykernel_129081/1753210642.py:3: DtypeWarning: Columns (0,1,2,3,4,5,7,8,10) have mixed types. Specify dtype option on import or set low_memory=False.\n",
      "  for chunk in all_data:\n",
      "/tmp/ipykernel_129081/1753210642.py:3: DtypeWarning: Columns (7,13) have mixed types. Specify dtype option on import or set low_memory=False.\n",
      "  for chunk in all_data:\n",
      "/tmp/ipykernel_129081/1753210642.py:3: DtypeWarning: Columns (7) have mixed types. Specify dtype option on import or set low_memory=False.\n",
      "  for chunk in all_data:\n",
      "/tmp/ipykernel_129081/1753210642.py:3: DtypeWarning: Columns (8,11) have mixed types. Specify dtype option on import or set low_memory=False.\n",
      "  for chunk in all_data:\n",
      "/tmp/ipykernel_129081/1753210642.py:3: DtypeWarning: Columns (7,8) have mixed types. Specify dtype option on import or set low_memory=False.\n",
      "  for chunk in all_data:\n",
      "/tmp/ipykernel_129081/1753210642.py:3: DtypeWarning: Columns (7) have mixed types. Specify dtype option on import or set low_memory=False.\n",
      "  for chunk in all_data:\n",
      "/tmp/ipykernel_129081/1753210642.py:3: DtypeWarning: Columns (0,1,2,3,4,5,7,10) have mixed types. Specify dtype option on import or set low_memory=False.\n",
      "  for chunk in all_data:\n",
      "/tmp/ipykernel_129081/1753210642.py:3: DtypeWarning: Columns (0,1,2,3,4,5,8,10) have mixed types. Specify dtype option on import or set low_memory=False.\n",
      "  for chunk in all_data:\n",
      "/tmp/ipykernel_129081/1753210642.py:3: DtypeWarning: Columns (8) have mixed types. Specify dtype option on import or set low_memory=False.\n",
      "  for chunk in all_data:\n"
     ]
    }
   ],
   "source": [
    "chuckies = []\n",
    "\n",
    "for chunk in all_data:\n",
    "    chunk:pd.DataFrame = chunk\n",
    "\n",
    "    grouped_chunk = chunk.groupby(by='tema').count()\n",
    "\n",
    "    chuckies.append(grouped_chunk)"
   ]
  },
  {
   "cell_type": "code",
   "execution_count": 20,
   "metadata": {},
   "outputs": [
    {
     "data": {
      "text/plain": [
       "np.int64(10445934)"
      ]
     },
     "execution_count": 20,
     "metadata": {},
     "output_type": "execute_result"
    }
   ],
   "source": [
    "total_count = pd.concat(chuckies, ignore_index=False)\n",
    "\n",
    "counted = total_count['data de abertura'].groupby(level=0).sum()\n",
    "\n",
    "counted.sort_values().sum()"
   ]
  }
 ],
 "metadata": {
  "kernelspec": {
   "display_name": ".venv",
   "language": "python",
   "name": "python3"
  },
  "language_info": {
   "codemirror_mode": {
    "name": "ipython",
    "version": 3
   },
   "file_extension": ".py",
   "mimetype": "text/x-python",
   "name": "python",
   "nbconvert_exporter": "python",
   "pygments_lexer": "ipython3",
   "version": "3.12.3"
  }
 },
 "nbformat": 4,
 "nbformat_minor": 2
}
