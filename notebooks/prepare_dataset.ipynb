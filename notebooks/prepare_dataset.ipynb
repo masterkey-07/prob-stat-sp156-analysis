{
 "cells": [
  {
   "cell_type": "markdown",
   "metadata": {},
   "source": [
    "# Prepare Dataset"
   ]
  },
  {
   "cell_type": "code",
   "execution_count": null,
   "metadata": {},
   "outputs": [],
   "source": [
    "import re\n",
    "import csv\n",
    "import glob\n",
    "import requests\n",
    "import unicodedata\n",
    "from tqdm import tqdm\n",
    "from threading import Thread\n",
    "from os import makedirs, path\n",
    "\n",
    "ROOT_PATH = path.abspath(path.dirname(path.dirname(__file__)))\n",
    "\n",
    "DATA_PATH = path.join(ROOT_PATH, 'data')\n",
    "RAW_DATA_PATH = path.join(DATA_PATH, 'raw')\n",
    "FINAL_DATA_PATH = path.join(DATA_PATH, 'final')\n",
    "ALL_DATA_FILE_PATH = path.join(FINAL_DATA_PATH, 'all_data.csv')\n",
    "ASSISTANCE_FILE_PATH = path.join(FINAL_DATA_PATH, 'Cidadania e assistência social.csv')\n",
    "RAW_ADDRESSES_FILE_PATH = path.join(FINAL_DATA_PATH, 'enderecos.csv')\n",
    "ADDRESSES_FILE_PATH = path.join(FINAL_DATA_PATH, 'enderecos_sao_paulo.csv')\n",
    "\n",
    "CEP_COLUMN = \"cep\"\n",
    "TOPIC_COLUMN = \"assunto\"\n",
    "\n",
    "COLUMNS_TO_KEEP = [\n",
    "\"data de abertura\",\n",
    "\"canal\",\n",
    "\"orgao\",\n",
    "\"tema\",\n",
    "\"assunto\",\n",
    "\"servico\",\n",
    "\"bairro\",\n",
    "\"cep\",\n",
    "\"distrito\",\n",
    "\"latitude\",\n",
    "\"logradouro\",\n",
    "\"longitude\",\n",
    "\"quadra\",\n",
    "\"numero\",\n",
    "]"
   ]
  },
  {
   "cell_type": "code",
   "execution_count": null,
   "metadata": {},
   "outputs": [],
   "source": [
    "makedirs(DATA_PATH, exist_ok=True)\n",
    "makedirs(RAW_DATA_PATH, exist_ok=True)\n",
    "makedirs(FINAL_DATA_PATH, exist_ok=True)"
   ]
  },
  {
   "cell_type": "code",
   "execution_count": null,
   "metadata": {},
   "outputs": [],
   "source": [
    "response = requests.get(\"http://dados.prefeitura.sp.gov.br/pt_PT/dataset/dados-do-sp156\")\n",
    "\n",
    "urls = re.findall(r'href=\"(.*\\.csv)\"', response.text)"
   ]
  },
  {
   "cell_type": "code",
   "execution_count": null,
   "metadata": {},
   "outputs": [],
   "source": [
    "progress_bar = tqdm(desc=\"Downloading SP156 Relatories\", total=len(urls))\n",
    "\n",
    "def download_csv(file_name: str, url: str):\n",
    "    response = requests.get(url)\n",
    "\n",
    "    file_path = path.join(RAW_DATA_PATH, f'{file_name}.csv')\n",
    "\n",
    "    with open(file_path, 'w', encoding='utf-8') as file:\n",
    "        file.write(response.text)\n",
    "\n",
    "    if progress_bar is not None:\n",
    "        progress_bar.update()\n"
   ]
  },
  {
   "cell_type": "code",
   "execution_count": null,
   "metadata": {},
   "outputs": [],
   "source": [
    "threads = []\n",
    "\n",
    "for index, url in enumerate(urls):\n",
    "    file_name = f'file_{index+1}'\n",
    "    thread = Thread(target=download_csv, args=(file_name, url))\n",
    "    thread.start()\n",
    "    threads.append(thread)\n",
    "\n",
    "for thread in threads:\n",
    "    thread.join()"
   ]
  },
  {
   "cell_type": "code",
   "execution_count": null,
   "metadata": {},
   "outputs": [],
   "source": [
    "path_name = path.join(RAW_DATA_PATH, '*.csv')\n",
    "\n",
    "files = glob.glob(path_name)\n",
    "\n",
    "downloaded_csvs = sorted(files, key=lambda file: int(re.findall('(\\d+)', file)[0]))\n",
    "\n",
    "valid_csvs = downloaded_csvs[:-6] # remove csvs from 2014 to 2012\n"
   ]
  },
  {
   "cell_type": "code",
   "execution_count": null,
   "metadata": {},
   "outputs": [],
   "source": [
    "def normalize_text(text:str):\n",
    "   return ''.join(c for c in unicodedata.normalize('NFD', text) if unicodedata.category(c) != 'Mn').lower().strip()\n",
    "\n",
    "def open_csv_writer(filepath:str):\n",
    "    file_descriptor = open(filepath, '+w', encoding=\"utf8\")\n",
    "\n",
    "    return csv.writer(file_descriptor, delimiter=';')\n",
    "\n",
    "def open_csv_reader(filepath:str):\n",
    "    file_descriptor = open(filepath, 'r', encoding=\"utf8\")\n",
    "\n",
    "    return csv.reader(file_descriptor, delimiter=';')"
   ]
  },
  {
   "cell_type": "code",
   "execution_count": null,
   "metadata": {},
   "outputs": [],
   "source": [
    "all_data_csv_writer = open_csv_writer(ALL_DATA_FILE_PATH)\n",
    "\n",
    "all_data_csv_writer.writerow(COLUMNS_TO_KEEP)\n",
    "\n",
    "for csv_file in tqdm(valid_csvs[:-6], desc=\"Concatenating rows to a single file\"):\n",
    "    csv_reader = open_csv_reader(csv_file)\n",
    "\n",
    "    headers = next(csv_reader)\n",
    "\n",
    "    normalized_headers = list(map(lambda head: normalize_text(head), headers))\n",
    "\n",
    "    indexes = list(map(lambda column: None if column not in normalized_headers else normalized_headers.index(column), COLUMNS_TO_KEEP))\n",
    "\n",
    "    for row in csv_reader:\n",
    "        mapped_row = map(lambda index:None if index is None else row[index], indexes)\n",
    "\n",
    "        all_data_csv_writer.writerow(list(mapped_row))"
   ]
  },
  {
   "cell_type": "code",
   "execution_count": null,
   "metadata": {},
   "outputs": [],
   "source": [
    "all_data_csv = open_csv_reader(ALL_DATA_FILE_PATH)\n",
    "\n",
    "header = next(all_data_csv)\n",
    "\n",
    "theme_index = header.index('tema')\n",
    "file_map = dict()\n",
    "\n",
    "for row in tqdm(all_data_csv, desc=\"Separating rows to multiple files\"):\n",
    "    theme = row[theme_index].replace('/', '').replace('\\\\', '')\n",
    "\n",
    "    if not file_map.get(theme):\n",
    "        theme_file = path.join(FINAL_DATA_PATH, f'{theme}.csv')\n",
    "\n",
    "        file_map[theme] = open_csv_writer(theme_file)\n",
    "        file_map[theme].writerow(header)\n",
    "\n",
    "    file_map[theme].writerow(row)\n"
   ]
  },
  {
   "cell_type": "code",
   "execution_count": null,
   "metadata": {},
   "outputs": [],
   "source": [
    "def str_to_none_if_empty(string:str):\n",
    "    string = string.strip()\n",
    "\n",
    "    if len(string) == 0:\n",
    "        return None\n",
    "    \n",
    "    return string"
   ]
  },
  {
   "cell_type": "code",
   "execution_count": null,
   "metadata": {},
   "outputs": [],
   "source": [
    "reader = open_csv_reader(ASSISTANCE_FILE_PATH)\n",
    "\n",
    "header = next(reader)\n",
    "\n",
    "CEP_INDEX = header.index(CEP_COLUMN)\n",
    "TOPIC_INDEX = header.index(TOPIC_COLUMN)\n",
    "\n",
    "cep_set = set()\n",
    "\n",
    "for row in reader:\n",
    "    if (row[TOPIC_INDEX] != 'População ou pessoa em situação de rua'):\n",
    "        continue\n",
    "\n",
    "    cep = str_to_none_if_empty(row[CEP_INDEX])\n",
    "\n",
    "    if cep is not None:\n",
    "        cep_set.add(cep)"
   ]
  },
  {
   "cell_type": "code",
   "execution_count": null,
   "metadata": {},
   "outputs": [],
   "source": [
    "def fetch_cep_data(cep):\n",
    "    response = requests.get(f\"https://opencep.com/v1/{cep}.json\")\n",
    "    \n",
    "    if response.status_code != 200:\n",
    "        return None\n",
    "\n",
    "    data = response.json()\n",
    "    \n",
    "    try:\n",
    "        return (data['cep'], data['logradouro'], data['bairro'], data['localidade'])\n",
    "    except KeyError:\n",
    "        return None   "
   ]
  },
  {
   "cell_type": "code",
   "execution_count": null,
   "metadata": {},
   "outputs": [],
   "source": [
    "ceps = list(cep_set)\n",
    "num_ceps_per_thread = len(ceps) // 8\n",
    "\n",
    "threads = []\n",
    "\n",
    "addresses_csv = open_csv_writer(RAW_ADDRESSES_FILE_PATH)\n",
    "\n",
    "addresses_csv.writerow(('cep', 'logradouro', 'bairro', 'localidade'))\n",
    "\n",
    "progress_bar = tqdm(total=len(ceps))\n",
    "\n",
    "def process_ceps(start, end):\n",
    "    for cep in ceps[start:end]:\n",
    "        cep_data = fetch_cep_data(cep)\n",
    "\n",
    "        progress_bar.update()\n",
    "\n",
    "        if cep_data is None:\n",
    "            continue\n",
    "            \n",
    "        addresses_csv.writerow(cep_data)"
   ]
  },
  {
   "cell_type": "code",
   "execution_count": null,
   "metadata": {},
   "outputs": [],
   "source": [
    "for i in range(8):\n",
    "    start_index = i * num_ceps_per_thread\n",
    "    end_index = (i + 1) * num_ceps_per_thread if i != 7 else len(ceps)  \n",
    "\n",
    "    thread = Thread(target=process_ceps, args=(start_index, end_index))\n",
    "    \n",
    "    threads.append(thread)\n",
    "    \n",
    "    thread.start()\n",
    "\n",
    "for thread in threads:\n",
    "    thread.join()"
   ]
  },
  {
   "cell_type": "code",
   "execution_count": null,
   "metadata": {},
   "outputs": [],
   "source": [
    "lines = open(RAW_ADDRESSES_FILE_PATH, 'r', encoding='utf8', errors='ignore').read().strip().split('\\n')\n",
    "\n",
    "new_lines = []\n",
    "\n",
    "CEP_REGEX = '\\d\\d\\d\\d\\d-\\d\\d\\d'\n",
    "\n",
    "for line in lines:\n",
    "    if line.startswith('cep'):\n",
    "        new_lines.append(line)\n",
    "        continue\n",
    "\n",
    "    finds = re.findall(CEP_REGEX, line)\n",
    "\n",
    "    if len(finds) == 1:\n",
    "        cep = finds[0]\n",
    "\n",
    "        cep_index = line.index(cep)\n",
    "\n",
    "        line = line[cep_index + len(cep):]\n",
    "\n",
    "        line = cep.replace('-', '') + line\n",
    "\n",
    "        print(line)\n",
    "\n",
    "    if line.count(',') == 3 and \"São Paulo\" in line:\n",
    "        new_lines.append(line.replace('\\x00', ''))\n",
    "\n",
    "open(ADDRESSES_FILE_PATH, 'w+').write('\\n'.join(new_lines))"
   ]
  }
 ],
 "metadata": {
  "kernelspec": {
   "display_name": ".venv",
   "language": "python",
   "name": "python3"
  },
  "language_info": {
   "codemirror_mode": {
    "name": "ipython",
    "version": 3
   },
   "file_extension": ".py",
   "mimetype": "text/x-python",
   "name": "python",
   "nbconvert_exporter": "python",
   "pygments_lexer": "ipython3",
   "version": "3.12.3"
  }
 },
 "nbformat": 4,
 "nbformat_minor": 2
}
