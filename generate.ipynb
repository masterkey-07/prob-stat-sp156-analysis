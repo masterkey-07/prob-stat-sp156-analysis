{
 "cells": [
  {
   "cell_type": "code",
   "execution_count": 1,
   "metadata": {},
   "outputs": [],
   "source": [
    "import csv\n",
    "\n",
    "NEIGHBORHOOD = \"bairro\"\n",
    "CEP = \"cep\"\n",
    "DISTRICT = \"distrito\"\n",
    "LATITUDE = \"latitude\"\n",
    "ADDRESS = \"logradouro\"\n",
    "LONGITUDE = \"longitude\"\n",
    "TOPIC = \"assunto\"\n",
    "SERVICE = \"servico\"\n",
    "\n",
    "def conv(val:str):\n",
    "    val = val.strip()\n",
    "\n",
    "    if len(val) == 0:\n",
    "        return None\n",
    "    \n",
    "    return val\n"
   ]
  },
  {
   "cell_type": "code",
   "execution_count": 2,
   "metadata": {},
   "outputs": [],
   "source": [
    "reader = csv.reader(open('./data/final/Cidadania e assistência social.csv', 'r', encoding='utf8'),  delimiter=';')\n",
    "\n",
    "header = next(reader)\n",
    "\n",
    "CEP_INDEX = header.index(CEP)\n",
    "DISTRICT_INDEX = header.index(DISTRICT)\n",
    "LATITUDE_INDEX = header.index(LATITUDE)\n",
    "ADDRESS_INDEX = header.index(ADDRESS)\n",
    "LONGITUDE_INDEX = header.index(LONGITUDE)\n",
    "TOPIC_INDEX = header.index(TOPIC)\n",
    "SERVICE_INDEX = header.index(SERVICE)\n",
    "\n",
    "cep_set = set()\n",
    "address_set = set()\n",
    "position_set = set()\n",
    "\n",
    "for row in reader:\n",
    "    if (row[TOPIC_INDEX] != 'População ou pessoa em situação de rua'):\n",
    "        continue\n",
    "\n",
    "    cep = conv(row[CEP_INDEX])\n",
    "    address = conv(row[ADDRESS_INDEX])\n",
    "    \n",
    "    latitude = conv(row[LATITUDE_INDEX])\n",
    "    longitude = conv(row[LONGITUDE_INDEX])\n",
    "\n",
    "    if cep is not None:\n",
    "        cep_set.add(cep)\n",
    "    elif address is not None:\n",
    "        address_set.add(address)\n",
    "    else:\n",
    "        position_set.add((latitude, longitude))\n",
    "    "
   ]
  },
  {
   "cell_type": "code",
   "execution_count": 3,
   "metadata": {},
   "outputs": [
    {
     "name": "stderr",
     "output_type": "stream",
     "text": [
      "  0%|          | 0/26013 [00:00<?, ?it/s]"
     ]
    }
   ],
   "source": [
    "import requests\n",
    "from tqdm import tqdm\n",
    "import csv\n",
    "from threading import Thread\n",
    "\n",
    "ceps = list(cep_set)\n",
    "num_ceps_per_thread = len(ceps) // 8\n",
    "\n",
    "threads = []\n",
    "\n",
    "def fetch_cep_data(cep):\n",
    "    response = requests.get(f\"https://opencep.com/v1/{cep}.json\")\n",
    "    \n",
    "    if response.status_code != 200:\n",
    "        return None\n",
    "\n",
    "    data = response.json()\n",
    "    \n",
    "    try:\n",
    "        return (data['cep'], data['logradouro'], data['bairro'])\n",
    "    except KeyError:\n",
    "        return None    \n",
    "\n",
    "addresses_csv = csv.writer(open('enderecos.csv', 'w+', encoding='utf8'))\n",
    "\n",
    "addresses_csv.writerow(('cep', 'logradouro', 'bairro'))\n",
    "\n",
    "progress_bar = tqdm(total=len(ceps))\n",
    "\n",
    "def process_ceps(start, end):\n",
    "    for cep in ceps[start:end]:\n",
    "        cep_data = fetch_cep_data(cep)\n",
    "\n",
    "        progress_bar.update()\n",
    "\n",
    "        if cep_data is None:\n",
    "            continue\n",
    "            \n",
    "        addresses_csv.writerow(cep_data)"
   ]
  },
  {
   "cell_type": "code",
   "execution_count": 4,
   "metadata": {},
   "outputs": [
    {
     "name": "stderr",
     "output_type": "stream",
     "text": [
      "100%|█████████▉| 26011/26013 [05:26<00:00, 24.06it/s] "
     ]
    },
    {
     "name": "stderr",
     "output_type": "stream",
     "text": [
      "100%|██████████| 26013/26013 [05:40<00:00, 24.06it/s]"
     ]
    }
   ],
   "source": [
    "for i in range(8):\n",
    "    start_index = i * num_ceps_per_thread\n",
    "    end_index = (i + 1) * num_ceps_per_thread if i != 7 else len(ceps)  \n",
    "\n",
    "    thread = Thread(target=process_ceps, args=(start_index, end_index))\n",
    "    \n",
    "    threads.append(thread)\n",
    "    \n",
    "    thread.start()\n",
    "\n",
    "for thread in threads:\n",
    "    thread.join()"
   ]
  }
 ],
 "metadata": {
  "kernelspec": {
   "display_name": ".venv",
   "language": "python",
   "name": "python3"
  },
  "language_info": {
   "codemirror_mode": {
    "name": "ipython",
    "version": 3
   },
   "file_extension": ".py",
   "mimetype": "text/x-python",
   "name": "python",
   "nbconvert_exporter": "python",
   "pygments_lexer": "ipython3",
   "version": "3.12.3"
  }
 },
 "nbformat": 4,
 "nbformat_minor": 2
}
